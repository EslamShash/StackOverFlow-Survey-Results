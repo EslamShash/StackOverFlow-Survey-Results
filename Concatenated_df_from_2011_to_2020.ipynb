{
 "cells": [
  {
   "cell_type": "markdown",
   "metadata": {},
   "source": [
    "## Model Using DecisionTreeClassifier"
   ]
  },
  {
   "cell_type": "markdown",
   "metadata": {},
   "source": [
    "### Concatenated all the dataframes from 2011 to 2020 and selected the similar columns then used Decision TreeClassifier to predict the salaries (The salaries was binned into categories)"
   ]
  },
  {
   "cell_type": "code",
   "execution_count": 1,
   "metadata": {},
   "outputs": [
    {
     "name": "stderr",
     "output_type": "stream",
     "text": [
      "C:\\ProgramData\\Miniconda3\\lib\\site-packages\\IPython\\core\\interactiveshell.py:3146: DtypeWarning: Columns (3,12) have mixed types.Specify dtype option on import or set low_memory=False.\n",
      "  has_raised = await self.run_ast_nodes(code_ast.body, cell_name,\n"
     ]
    },
    {
     "data": {
      "text/html": [
       "<div>\n",
       "<style scoped>\n",
       "    .dataframe tbody tr th:only-of-type {\n",
       "        vertical-align: middle;\n",
       "    }\n",
       "\n",
       "    .dataframe tbody tr th {\n",
       "        vertical-align: top;\n",
       "    }\n",
       "\n",
       "    .dataframe thead th {\n",
       "        text-align: right;\n",
       "    }\n",
       "</style>\n",
       "<table border=\"1\" class=\"dataframe\">\n",
       "  <thead>\n",
       "    <tr style=\"text-align: right;\">\n",
       "      <th></th>\n",
       "      <th>Country</th>\n",
       "      <th>Age</th>\n",
       "      <th>ExperienceYears</th>\n",
       "      <th>Industry</th>\n",
       "      <th>CompanySize</th>\n",
       "      <th>Occupation</th>\n",
       "      <th>OperatingSystem</th>\n",
       "      <th>JobSatisfaction</th>\n",
       "      <th>Salary</th>\n",
       "      <th>Year</th>\n",
       "      <th>EmploymentStatus</th>\n",
       "      <th>Gender</th>\n",
       "      <th>Remote</th>\n",
       "    </tr>\n",
       "  </thead>\n",
       "  <tbody>\n",
       "    <tr>\n",
       "      <th>0</th>\n",
       "      <td>Africa</td>\n",
       "      <td>&lt; 20</td>\n",
       "      <td>&lt;2</td>\n",
       "      <td>Consulting</td>\n",
       "      <td>10 to 19 employees</td>\n",
       "      <td>Web Application Developer</td>\n",
       "      <td>Linux</td>\n",
       "      <td>Very dissatisfied</td>\n",
       "      <td>Student / Unemployed</td>\n",
       "      <td>2011</td>\n",
       "      <td>NaN</td>\n",
       "      <td>NaN</td>\n",
       "      <td>NaN</td>\n",
       "    </tr>\n",
       "    <tr>\n",
       "      <th>1</th>\n",
       "      <td>Other Europe</td>\n",
       "      <td>25-29</td>\n",
       "      <td>2 - 5 years</td>\n",
       "      <td>Software Products</td>\n",
       "      <td>20 to 99 employees</td>\n",
       "      <td>Server Programmer</td>\n",
       "      <td>Windows 7</td>\n",
       "      <td>Very satisfied</td>\n",
       "      <td>NaN</td>\n",
       "      <td>2011</td>\n",
       "      <td>NaN</td>\n",
       "      <td>NaN</td>\n",
       "      <td>NaN</td>\n",
       "    </tr>\n",
       "    <tr>\n",
       "      <th>2</th>\n",
       "      <td>India</td>\n",
       "      <td>25-29</td>\n",
       "      <td>6 - 10 years</td>\n",
       "      <td>Software Products</td>\n",
       "      <td>500 to 999 employees</td>\n",
       "      <td>Server Programmer</td>\n",
       "      <td>Linux</td>\n",
       "      <td>NaN</td>\n",
       "      <td>NaN</td>\n",
       "      <td>2011</td>\n",
       "      <td>NaN</td>\n",
       "      <td>NaN</td>\n",
       "      <td>NaN</td>\n",
       "    </tr>\n",
       "    <tr>\n",
       "      <th>3</th>\n",
       "      <td>Germany</td>\n",
       "      <td>&lt; 20</td>\n",
       "      <td>2 - 5 years</td>\n",
       "      <td>Foundation / Non-Profit</td>\n",
       "      <td>Student</td>\n",
       "      <td>Student</td>\n",
       "      <td>Linux</td>\n",
       "      <td>Slightly satisfied</td>\n",
       "      <td>Student / Unemployed</td>\n",
       "      <td>2011</td>\n",
       "      <td>NaN</td>\n",
       "      <td>NaN</td>\n",
       "      <td>NaN</td>\n",
       "    </tr>\n",
       "    <tr>\n",
       "      <th>4</th>\n",
       "      <td>Other Asia</td>\n",
       "      <td>35-39</td>\n",
       "      <td>11+ years</td>\n",
       "      <td>Software Products</td>\n",
       "      <td>10 to 19 employees</td>\n",
       "      <td>Executive (VP of Eng, CTO, CIO, etc.)</td>\n",
       "      <td>Linux</td>\n",
       "      <td>Neither satisfied nor dissatisfied</td>\n",
       "      <td>$80,000 - $100,000</td>\n",
       "      <td>2011</td>\n",
       "      <td>NaN</td>\n",
       "      <td>NaN</td>\n",
       "      <td>NaN</td>\n",
       "    </tr>\n",
       "  </tbody>\n",
       "</table>\n",
       "</div>"
      ],
      "text/plain": [
       "        Country    Age ExperienceYears                 Industry  \\\n",
       "0        Africa   < 20              <2               Consulting   \n",
       "1  Other Europe  25-29     2 - 5 years        Software Products   \n",
       "2         India  25-29    6 - 10 years        Software Products   \n",
       "3       Germany   < 20     2 - 5 years  Foundation / Non-Profit   \n",
       "4    Other Asia  35-39       11+ years        Software Products   \n",
       "\n",
       "            CompanySize                             Occupation  \\\n",
       "0    10 to 19 employees              Web Application Developer   \n",
       "1    20 to 99 employees                      Server Programmer   \n",
       "2  500 to 999 employees                      Server Programmer   \n",
       "3               Student                                Student   \n",
       "4    10 to 19 employees  Executive (VP of Eng, CTO, CIO, etc.)   \n",
       "\n",
       "  OperatingSystem                     JobSatisfaction                Salary  \\\n",
       "0           Linux                   Very dissatisfied  Student / Unemployed   \n",
       "1       Windows 7                      Very satisfied                   NaN   \n",
       "2           Linux                                 NaN                   NaN   \n",
       "3           Linux                  Slightly satisfied  Student / Unemployed   \n",
       "4           Linux  Neither satisfied nor dissatisfied    $80,000 - $100,000   \n",
       "\n",
       "   Year EmploymentStatus Gender Remote  \n",
       "0  2011              NaN    NaN    NaN  \n",
       "1  2011              NaN    NaN    NaN  \n",
       "2  2011              NaN    NaN    NaN  \n",
       "3  2011              NaN    NaN    NaN  \n",
       "4  2011              NaN    NaN    NaN  "
      ]
     },
     "execution_count": 1,
     "metadata": {},
     "output_type": "execute_result"
    }
   ],
   "source": [
    "import numpy as np\n",
    "import pandas as pd\n",
    "import matplotlib.pyplot as plt\n",
    "from IPython import display\n",
    "import helper as h\n",
    "import seaborn as sns\n",
    "from sklearn.svm import SVC\n",
    "from sklearn.tree import DecisionTreeClassifier\n",
    "from sklearn.linear_model import LinearRegression\n",
    "from sklearn.model_selection import train_test_split\n",
    "from sklearn.metrics import r2_score, mean_squared_error\n",
    "from sklearn import preprocessing\n",
    "%matplotlib inline\n",
    "df = pd.read_csv('final_df.csv')\n",
    "pd.set_option('display.max_columns', 500)\n",
    "df.head()"
   ]
  },
  {
   "cell_type": "code",
   "execution_count": 2,
   "metadata": {},
   "outputs": [
    {
     "data": {
      "text/plain": [
       "(412148, 13)"
      ]
     },
     "execution_count": 2,
     "metadata": {},
     "output_type": "execute_result"
    }
   ],
   "source": [
    "df.shape"
   ]
  },
  {
   "cell_type": "code",
   "execution_count": 3,
   "metadata": {},
   "outputs": [],
   "source": [
    "pd.options.display.max_colwidth = 200\n",
    "pd.options.display.expand_frame_repr = 200\n"
   ]
  },
  {
   "cell_type": "code",
   "execution_count": 4,
   "metadata": {},
   "outputs": [
    {
     "name": "stderr",
     "output_type": "stream",
     "text": [
      "<ipython-input-4-a1d910bacc55>:1: SettingWithCopyWarning: \n",
      "A value is trying to be set on a copy of a slice from a DataFrame\n",
      "\n",
      "See the caveats in the documentation: https://pandas.pydata.org/pandas-docs/stable/user_guide/indexing.html#returning-a-view-versus-a-copy\n",
      "  df['Age'][df['Age'].isin(['Under 18 years old'])] = '< 20'\n",
      "<ipython-input-4-a1d910bacc55>:2: SettingWithCopyWarning: \n",
      "A value is trying to be set on a copy of a slice from a DataFrame\n",
      "\n",
      "See the caveats in the documentation: https://pandas.pydata.org/pandas-docs/stable/user_guide/indexing.html#returning-a-view-versus-a-copy\n",
      "  df['Age'][df['Age'].isin(['18 - 24 years old'])] = '20-24'\n",
      "<ipython-input-4-a1d910bacc55>:3: SettingWithCopyWarning: \n",
      "A value is trying to be set on a copy of a slice from a DataFrame\n",
      "\n",
      "See the caveats in the documentation: https://pandas.pydata.org/pandas-docs/stable/user_guide/indexing.html#returning-a-view-versus-a-copy\n",
      "  df['Age'][df['Age'].isin(['35-39'])] = '34-39'\n",
      "<ipython-input-4-a1d910bacc55>:4: SettingWithCopyWarning: \n",
      "A value is trying to be set on a copy of a slice from a DataFrame\n",
      "\n",
      "See the caveats in the documentation: https://pandas.pydata.org/pandas-docs/stable/user_guide/indexing.html#returning-a-view-versus-a-copy\n",
      "  df['Age'][df['Age'].isin(['40-49'])] = '40-50'\n",
      "<ipython-input-4-a1d910bacc55>:5: SettingWithCopyWarning: \n",
      "A value is trying to be set on a copy of a slice from a DataFrame\n",
      "\n",
      "See the caveats in the documentation: https://pandas.pydata.org/pandas-docs/stable/user_guide/indexing.html#returning-a-view-versus-a-copy\n",
      "  df['Age'][df['Age'].isin(['50-59'])] = '51-60'\n",
      "<ipython-input-4-a1d910bacc55>:6: SettingWithCopyWarning: \n",
      "A value is trying to be set on a copy of a slice from a DataFrame\n",
      "\n",
      "See the caveats in the documentation: https://pandas.pydata.org/pandas-docs/stable/user_guide/indexing.html#returning-a-view-versus-a-copy\n",
      "  df['Age'][df['Age'].isin(['65 years or older', '>60'])] = '> 60'\n"
     ]
    }
   ],
   "source": [
    "df['Age'][df['Age'].isin(['Under 18 years old'])] = '< 20'\n",
    "df['Age'][df['Age'].isin(['18 - 24 years old'])] = '20-24'\n",
    "df['Age'][df['Age'].isin(['35-39'])] = '34-39'\n",
    "df['Age'][df['Age'].isin(['40-49'])] = '40-50'\n",
    "df['Age'][df['Age'].isin(['50-59'])] = '51-60'\n",
    "df['Age'][df['Age'].isin(['65 years or older', '>60'])] = '> 60'\n"
   ]
  },
  {
   "cell_type": "code",
   "execution_count": 5,
   "metadata": {},
   "outputs": [],
   "source": [
    "df = df.dropna(subset=['Salary'], axis=0)\n",
    "X = df.drop(['Salary', 'Occupation'], axis=1)\n",
    "y = df['Salary']\n"
   ]
  },
  {
   "cell_type": "code",
   "execution_count": 18,
   "metadata": {},
   "outputs": [],
   "source": [
    "cat_vars= X.select_dtypes(include=['object']).copy().columns\n",
    "for var in cat_vars:\n",
    "    # for each cat add dummy var, drop original column\n",
    "    X = pd.concat([X.drop(var, axis=1), pd.get_dummies(X[var], prefix=var, prefix_sep='_', drop_first=True)], axis=1)\n"
   ]
  },
  {
   "cell_type": "code",
   "execution_count": 19,
   "metadata": {},
   "outputs": [
    {
     "data": {
      "text/plain": [
       "(188675, 350)"
      ]
     },
     "execution_count": 19,
     "metadata": {},
     "output_type": "execute_result"
    }
   ],
   "source": [
    "X.shape"
   ]
  },
  {
   "cell_type": "code",
   "execution_count": 22,
   "metadata": {},
   "outputs": [
    {
     "data": {
      "text/plain": [
       "0.3467603021067974"
      ]
     },
     "execution_count": 22,
     "metadata": {},
     "output_type": "execute_result"
    }
   ],
   "source": [
    "#split the data into train and test\n",
    "X_train, X_test, y_train, y_test = train_test_split(X, y, test_size = 0.2, random_state=5)\n",
    "\n",
    "dtree_model = DecisionTreeClassifier(max_depth = 100).fit(X_train, y_train)\n",
    "dtree_model.score(X_test, y_test)"
   ]
  },
  {
   "cell_type": "markdown",
   "metadata": {},
   "source": [
    "The model is not performing very well as fewer columns was matched from several dataframes "
   ]
  },
  {
   "cell_type": "code",
   "execution_count": null,
   "metadata": {},
   "outputs": [],
   "source": []
  }
 ],
 "metadata": {
  "kernelspec": {
   "display_name": "Python 3",
   "language": "python",
   "name": "python3"
  },
  "language_info": {
   "codemirror_mode": {
    "name": "ipython",
    "version": 3
   },
   "file_extension": ".py",
   "mimetype": "text/x-python",
   "name": "python",
   "nbconvert_exporter": "python",
   "pygments_lexer": "ipython3",
   "version": "3.8.5"
  }
 },
 "nbformat": 4,
 "nbformat_minor": 4
}
